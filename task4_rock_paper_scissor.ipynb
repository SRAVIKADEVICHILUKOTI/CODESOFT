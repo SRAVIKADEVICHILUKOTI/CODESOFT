{
 "cells": [
  {
   "cell_type": "code",
   "execution_count": 3,
   "id": "270e1a4f-f04d-4595-a8ae-b0c799afb5b8",
   "metadata": {},
   "outputs": [
    {
     "name": "stdout",
     "output_type": "stream",
     "text": [
      "                         ROCK-PAPER-SCISSORS GAME                                         \n",
      "\n",
      "assume rock as 1,paper as 2, scissor as 3\n"
     ]
    },
    {
     "name": "stdin",
     "output_type": "stream",
     "text": [
      "enter your choice-rock as '0' or paper as '1' or scissor as '2': 1\n"
     ]
    },
    {
     "name": "stdout",
     "output_type": "stream",
     "text": [
      "user choice is paper\n",
      "computer choice is rock\n",
      "user is winner\n",
      "user score is 1\n",
      "computer score 0\n"
     ]
    },
    {
     "name": "stdin",
     "output_type": "stream",
     "text": [
      "do you want to play again [y/n] y\n",
      "enter your choice-rock as '0' or paper as '1' or scissor as '2': 2\n"
     ]
    },
    {
     "name": "stdout",
     "output_type": "stream",
     "text": [
      "user choice is scissor\n",
      "com[puter choice is scissor\n",
      "draw match\n",
      "user score is 1\n",
      "computer score 0\n"
     ]
    },
    {
     "name": "stdin",
     "output_type": "stream",
     "text": [
      "do you want to play again [y/n] n\n"
     ]
    },
    {
     "name": "stdout",
     "output_type": "stream",
     "text": [
      "pleasee try again\n"
     ]
    }
   ],
   "source": [
    "import random\n",
    "print(\"                         ROCK-PAPER-SCISSORS GAME                                         \\n\")\n",
    "print(\"assume rock as 1,paper as 2, scissor as 3\")\n",
    "user_win=0\n",
    "computer_win=0\n",
    "while(True):\n",
    "    user_input=int(input(\"enter your choice-rock as '0' or paper as '1' or scissor as '2':\"))\n",
    "    if(user_input>2 or user_input<0):\n",
    "        print(\"please enter the correct choice\")\n",
    "    else:\n",
    "        computer_choice=random.randint(0,2)\n",
    "        #user choice\n",
    "        if(user_input==0):\n",
    "            print(\"user_choice is rock\")\n",
    "        elif(user_input==1):\n",
    "            print(\"user choice is paper\")\n",
    "        elif(user_input==2):\n",
    "            print(\"user choice is scissor\")\n",
    "        #computer choice\n",
    "        if(computer_choice==0):\n",
    "            print(\"computer choice is rock\")\n",
    "        elif(computer_choice==1):\n",
    "            print(\"computer choice is paper\")\n",
    "        elif(computer_choice==2):\n",
    "            print(\"com[puter choice is scissor\")\n",
    "        #rules\n",
    "        if(computer_choice==user_input):\n",
    "            print(\"draw match\")\n",
    "        elif(computer_choice==0 and user_input==2):\n",
    "            computer_win=computer_win+1\n",
    "            print(\"user is looser\")\n",
    "        elif(computer_choice==2 and user_input==0):\n",
    "            user_win=user_win+1\n",
    "            print(\"user is winner\")\n",
    "        elif(computer_choice>user_input):\n",
    "            computer_win=computer_win+1\n",
    "            print(\"user is looser\")\n",
    "        elif(computer_choice<user_input):\n",
    "            user_win=user_win+1\n",
    "            print(\"user is winner\")\n",
    "        print(\"user score is\",user_win)\n",
    "        print(\"computer score\",computer_win)\n",
    "        play_again=input(\"do you want to play again [y/n]\")\n",
    "        if(play_again=='y' or play_again==\"Y\"):\n",
    "            continue\n",
    "        else:\n",
    "            print(\"pleasee try again\")\n",
    "            break"
   ]
  },
  {
   "cell_type": "code",
   "execution_count": null,
   "id": "83a62a9d-9f85-4ee2-8dfa-9f51e942da9d",
   "metadata": {},
   "outputs": [],
   "source": []
  },
  {
   "cell_type": "code",
   "execution_count": null,
   "id": "e1cdfbf5-8206-441a-bc9f-7266e5605cbd",
   "metadata": {},
   "outputs": [],
   "source": []
  }
 ],
 "metadata": {
  "kernelspec": {
   "display_name": "Python 3 (ipykernel)",
   "language": "python",
   "name": "python3"
  },
  "language_info": {
   "codemirror_mode": {
    "name": "ipython",
    "version": 3
   },
   "file_extension": ".py",
   "mimetype": "text/x-python",
   "name": "python",
   "nbconvert_exporter": "python",
   "pygments_lexer": "ipython3",
   "version": "3.8.10"
  }
 },
 "nbformat": 4,
 "nbformat_minor": 5
}
