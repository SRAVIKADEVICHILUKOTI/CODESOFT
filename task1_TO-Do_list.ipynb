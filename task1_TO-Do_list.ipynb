{
 "cells": [
  {
   "cell_type": "code",
   "execution_count": 16,
   "id": "9119756a-1531-44bd-b37a-8b338a7f7a3c",
   "metadata": {},
   "outputs": [
    {
     "name": "stdout",
     "output_type": "stream",
     "text": [
      "  Main Menu\n",
      "1.add a new task\n",
      "2.view all the tasks\n",
      "3.Remove task\n",
      "4.mark task as completed\n",
      "5.Exit application\n"
     ]
    },
    {
     "name": "stdin",
     "output_type": "stream",
     "text": [
      "enter your choice: 1\n",
      "enter the no of tasks: 3\n",
      "enter a task: find the problem\n"
     ]
    },
    {
     "name": "stdout",
     "output_type": "stream",
     "text": [
      "new task ia added\n",
      "\n"
     ]
    },
    {
     "name": "stdin",
     "output_type": "stream",
     "text": [
      "enter a task: reasons of the problem\n"
     ]
    },
    {
     "name": "stdout",
     "output_type": "stream",
     "text": [
      "new task ia added\n",
      "\n"
     ]
    },
    {
     "name": "stdin",
     "output_type": "stream",
     "text": [
      "enter a task: solutions of the problem\n"
     ]
    },
    {
     "name": "stdout",
     "output_type": "stream",
     "text": [
      "new task ia added\n",
      "\n",
      "\n",
      "\n",
      "  Main Menu\n",
      "1.add a new task\n",
      "2.view all the tasks\n",
      "3.Remove task\n",
      "4.mark task as completed\n",
      "5.Exit application\n"
     ]
    },
    {
     "name": "stdin",
     "output_type": "stream",
     "text": [
      "enter your choice: 2\n"
     ]
    },
    {
     "name": "stdout",
     "output_type": "stream",
     "text": [
      "My task list:\n",
      "1:find the problem-pending\n",
      "2:reasons of the problem-pending\n",
      "3:solutions of the problem-pending\n",
      "\n",
      "\n",
      "  Main Menu\n",
      "1.add a new task\n",
      "2.view all the tasks\n",
      "3.Remove task\n",
      "4.mark task as completed\n",
      "5.Exit application\n"
     ]
    },
    {
     "name": "stdin",
     "output_type": "stream",
     "text": [
      "enter your choice: 4\n",
      "enter the task number to mark as complete: 1\n"
     ]
    },
    {
     "name": "stdout",
     "output_type": "stream",
     "text": [
      "Done has deen marked as completed\n",
      "\n",
      "\n",
      "  Main Menu\n",
      "1.add a new task\n",
      "2.view all the tasks\n",
      "3.Remove task\n",
      "4.mark task as completed\n",
      "5.Exit application\n"
     ]
    },
    {
     "name": "stdin",
     "output_type": "stream",
     "text": [
      "enter your choice: 2\n"
     ]
    },
    {
     "name": "stdout",
     "output_type": "stream",
     "text": [
      "My task list:\n",
      "1:find the problem-Done\n",
      "2:reasons of the problem-pending\n",
      "3:solutions of the problem-pending\n",
      "\n",
      "\n",
      "  Main Menu\n",
      "1.add a new task\n",
      "2.view all the tasks\n",
      "3.Remove task\n",
      "4.mark task as completed\n",
      "5.Exit application\n"
     ]
    },
    {
     "name": "stdin",
     "output_type": "stream",
     "text": [
      "enter your choice: 5\n"
     ]
    },
    {
     "name": "stdout",
     "output_type": "stream",
     "text": [
      "iam exiting the app\n",
      "before exiting\n",
      "catch exception : Exiting!\n"
     ]
    }
   ],
   "source": [
    "import sys\n",
    "todo_list=[]\n",
    "def add_task():\n",
    "    no_of_tasks=int(input(\"enter the no of tasks:\"))\n",
    "    for i in range(no_of_tasks):\n",
    "        task=input(\"enter a task:\")\n",
    "        todo_list.append({\"Task\":task,\"status\":\"pending\"})\n",
    "        print(\"new task ia added\\n\")\n",
    "\n",
    "\n",
    "def view_task():\n",
    "    print(\"My task list:\")\n",
    "    if(len(todo_list)==0):\n",
    "        print(\"no pending tasks are there\")\n",
    "    else:\n",
    "        for i, task in enumerate(todo_list,1):\n",
    "            print(f\"{i}:{task['Task']}-{task['status']}\")\n",
    "\n",
    "\n",
    "def remove_task():\n",
    "    if(len(todo_list)==0):\n",
    "        print(\"todo list is empty\")\n",
    "    else:\n",
    "        task_no_to_remove=int(input(\"enter the task number to remove from the list:\"))-1\n",
    "        if(0<=task_no_to_remove<len(todo_list)):\n",
    "            remove_task=todo_list.pop(task_no_to_remove)\n",
    "            print(f\"Removed task is {remove_task['Task']}\")\n",
    "        else:\n",
    "            print(\"invalid task number\")\n",
    "\n",
    "\n",
    "def mark_done():\n",
    "    if(len(todo_list)==0):\n",
    "        print(\"todo lidt is empty\")\n",
    "    else:\n",
    "        task_no_to_markdone=int(input(\"enter the task number to mark as complete:\"))-1\n",
    "        if(0<=task_no_to_markdone<len(todo_list)):\n",
    "            todo_list[task_no_to_markdone]['status']=\"Done\"\n",
    "            print(f\"{todo_list[task_no_to_markdone]['status']} has deen marked as completed\")\n",
    "        else:\n",
    "            print(\"enter the valid number\")\n",
    "\n",
    "\n",
    "def todo():\n",
    "    while(True):\n",
    "        print(\"  Main Menu\")\n",
    "        print(\"1.add a new task\")\n",
    "        print(\"2.view all the tasks\")\n",
    "        print(\"3.Remove task\")\n",
    "        print(\"4.mark task as completed\")\n",
    "        print(\"5.Exit application\")\n",
    "        choice=input(\"enter your choice:\")\n",
    "        if(choice=='1'):\n",
    "            add_task()\n",
    "            print('\\n')\n",
    "        elif(choice=='2'):\n",
    "            view_task()\n",
    "            print('\\n')\n",
    "        elif(choice=='3'):\n",
    "            remove_task()\n",
    "            print('\\n')\n",
    "        elif(choice=='4'):\n",
    "            mark_done()\n",
    "            print('\\n')\n",
    "        elif(choice=='5'):\n",
    "            print(\"iam exiting the app\")\n",
    "            try:\n",
    "                print(\"before exiting\")\n",
    "                sys.exit(\"Exiting!\")\n",
    "            except SystemExit as e:\n",
    "                print(f\"catch exception : {e}\")\n",
    "            break\n",
    "        else:\n",
    "            print(\"invalid please try again\")\n",
    "todo()"
   ]
  },
  {
   "cell_type": "code",
   "execution_count": null,
   "id": "37eecd00-4cd2-4af1-a78f-068420257d07",
   "metadata": {},
   "outputs": [],
   "source": []
  }
 ],
 "metadata": {
  "kernelspec": {
   "display_name": "Python 3 (ipykernel)",
   "language": "python",
   "name": "python3"
  },
  "language_info": {
   "codemirror_mode": {
    "name": "ipython",
    "version": 3
   },
   "file_extension": ".py",
   "mimetype": "text/x-python",
   "name": "python",
   "nbconvert_exporter": "python",
   "pygments_lexer": "ipython3",
   "version": "3.8.10"
  }
 },
 "nbformat": 4,
 "nbformat_minor": 5
}
