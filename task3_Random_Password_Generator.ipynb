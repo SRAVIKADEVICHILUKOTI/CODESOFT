{
 "cells": [
  {
   "cell_type": "code",
   "execution_count": 4,
   "id": "fde5e9e3-364a-4ef1-ad0f-0d4051548f97",
   "metadata": {},
   "outputs": [
    {
     "name": "stdout",
     "output_type": "stream",
     "text": [
      "          RANDOM PASSWORD GENERATOR            \n",
      "\n"
     ]
    },
    {
     "name": "stdin",
     "output_type": "stream",
     "text": [
      "enter the length of the password: 8\n"
     ]
    },
    {
     "name": "stdout",
     "output_type": "stream",
     "text": [
      "randomly genarated password is: -gq\"/J0U\n"
     ]
    }
   ],
   "source": [
    "import random\n",
    "import string\n",
    "print(\"          RANDOM PASSWORD GENERATOR            \\n\")\n",
    "user_input=int(input(\"enter the length of the password:\"))\n",
    "characters=string.ascii_letters\n",
    "characters=characters+string.digits\n",
    "characters=characters+string.punctuation\n",
    "password=\"\"\n",
    "for i in range(user_input):\n",
    "    generated_character=random.choice(characters)\n",
    "    password=password+generated_character\n",
    "print(f\"randomly genarated password is: {password}\")"
   ]
  }
 ],
 "metadata": {
  "kernelspec": {
   "display_name": "Python 3 (ipykernel)",
   "language": "python",
   "name": "python3"
  },
  "language_info": {
   "codemirror_mode": {
    "name": "ipython",
    "version": 3
   },
   "file_extension": ".py",
   "mimetype": "text/x-python",
   "name": "python",
   "nbconvert_exporter": "python",
   "pygments_lexer": "ipython3",
   "version": "3.8.10"
  }
 },
 "nbformat": 4,
 "nbformat_minor": 5
}
